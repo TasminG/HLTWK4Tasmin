{
 "metadata": {
  "language_info": {
   "codemirror_mode": {
    "name": "ipython",
    "version": 3
   },
   "file_extension": ".py",
   "mimetype": "text/x-python",
   "name": "python",
   "nbconvert_exporter": "python",
   "pygments_lexer": "ipython3",
   "version": "3.9.5"
  },
  "orig_nbformat": 4,
  "kernelspec": {
   "name": "python3",
   "display_name": "Python 3.9.5 64-bit"
  },
  "interpreter": {
   "hash": "c958e67581bf5013e79959b0fec4eed6d80993cf9b82d7c6eef8fa484b7cf595"
  }
 },
 "nbformat": 4,
 "nbformat_minor": 2,
 "cells": [
  {
   "cell_type": "code",
   "execution_count": 8,
   "metadata": {},
   "outputs": [
    {
     "output_type": "stream",
     "name": "stdout",
     "text": [
      "Requirement already satisfied: pandas in c:\\users\\tazam\\appdata\\local\\packages\\pythonsoftwarefoundation.python.3.8_qbz5n2kfra8p0\\localcache\\local-packages\\python38\\site-packages (1.3.1)\n",
      "Requirement already satisfied: pytz>=2017.3 in c:\\users\\tazam\\appdata\\local\\packages\\pythonsoftwarefoundation.python.3.8_qbz5n2kfra8p0\\localcache\\local-packages\\python38\\site-packages (from pandas) (2021.1)\n",
      "Requirement already satisfied: numpy>=1.17.3 in c:\\users\\tazam\\appdata\\local\\packages\\pythonsoftwarefoundation.python.3.8_qbz5n2kfra8p0\\localcache\\local-packages\\python38\\site-packages (from pandas) (1.21.1)\n",
      "Requirement already satisfied: python-dateutil>=2.7.3 in c:\\users\\tazam\\appdata\\local\\packages\\pythonsoftwarefoundation.python.3.8_qbz5n2kfra8p0\\localcache\\local-packages\\python38\\site-packages (from pandas) (2.8.2)\n",
      "Requirement already satisfied: six>=1.5 in c:\\users\\tazam\\appdata\\local\\packages\\pythonsoftwarefoundation.python.3.8_qbz5n2kfra8p0\\localcache\\local-packages\\python38\\site-packages (from python-dateutil>=2.7.3->pandas) (1.16.0)\n",
      "WARNING: You are using pip version 21.1.1; however, version 21.2.1 is available.\n",
      "You should consider upgrading via the 'C:\\Users\\Tazam\\AppData\\Local\\Microsoft\\WindowsApps\\PythonSoftwareFoundation.Python.3.8_qbz5n2kfra8p0\\python.exe -m pip install --upgrade pip' command.\n"
     ]
    }
   ],
   "source": [
    "!pip install pandas "
   ]
  },
  {
   "cell_type": "code",
   "execution_count": 1,
   "metadata": {},
   "outputs": [
    {
     "output_type": "stream",
     "name": "stdout",
     "text": [
      "Requirement already satisfied: matplotlib in c:\\users\\tazam\\appdata\\local\\packages\\pythonsoftwarefoundation.python.3.8_qbz5n2kfra8p0\\localcache\\local-packages\\python38\\site-packages (3.4.2)\nRequirement already satisfied: pyparsing>=2.2.1 in c:\\users\\tazam\\appdata\\local\\packages\\pythonsoftwarefoundation.python.3.8_qbz5n2kfra8p0\\localcache\\local-packages\\python38\\site-packages (from matplotlib) (2.4.7)\nRequirement already satisfied: kiwisolver>=1.0.1 in c:\\users\\tazam\\appdata\\local\\packages\\pythonsoftwarefoundation.python.3.8_qbz5n2kfra8p0\\localcache\\local-packages\\python38\\site-packages (from matplotlib) (1.3.1)\nRequirement already satisfied: pillow>=6.2.0 in c:\\users\\tazam\\appdata\\local\\packages\\pythonsoftwarefoundation.python.3.8_qbz5n2kfra8p0\\localcache\\local-packages\\python38\\site-packages (from matplotlib) (8.3.1)\nRequirement already satisfied: cycler>=0.10 in c:\\users\\tazam\\appdata\\local\\packages\\pythonsoftwarefoundation.python.3.8_qbz5n2kfra8p0\\localcache\\local-packages\\python38\\site-packages (from matplotlib) (0.10.0)\nRequirement already satisfied: python-dateutil>=2.7 in c:\\users\\tazam\\appdata\\local\\packages\\pythonsoftwarefoundation.python.3.8_qbz5n2kfra8p0\\localcache\\local-packages\\python38\\site-packages (from matplotlib) (2.8.2)\nRequirement already satisfied: numpy>=1.16 in c:\\users\\tazam\\appdata\\local\\packages\\pythonsoftwarefoundation.python.3.8_qbz5n2kfra8p0\\localcache\\local-packages\\python38\\site-packages (from matplotlib) (1.21.1)\nRequirement already satisfied: six in c:\\users\\tazam\\appdata\\local\\packages\\pythonsoftwarefoundation.python.3.8_qbz5n2kfra8p0\\localcache\\local-packages\\python38\\site-packages (from cycler>=0.10->matplotlib) (1.16.0)\n"
     ]
    }
   ],
   "source": [
    "!pip install matplotlib"
   ]
  },
  {
   "cell_type": "code",
   "execution_count": 6,
   "metadata": {},
   "outputs": [
    {
     "output_type": "stream",
     "name": "stdout",
     "text": [
      "     Destination  Feedback_Score(Out_of_10)  Average_Hotel_Rating(Out_Of_5)  \\\n0        Croatia                          7                             4.0   \n1    New Zealand                          5                             4.2   \n2       Maldives                          9                             4.8   \n3    Netherlands                          5                             3.0   \n4          India                          6                             3.5   \n5          Spain                          7                             2.4   \n6         Turkey                          6                             4.4   \n7       Tenerife                          3                             5.0   \n8       Portugal                          4                             3.6   \n9          Ibiza                          3                             4.2   \n10  South Africa                          8                             4.7   \n11       Tunisia                          7                             3.2   \n12   East Africa                          6                             3.6   \n13        Brazil                          9                             4.7   \n14       Cananda                          8                             4.5   \n\n    Number_Of_All-inclusive_Hotels  Most_Visited_City  \n0                               24          Dubrovnik  \n1                              256           Auckland  \n2                               57         Malé Atoll  \n3                                2          Amsterdam  \n4                              106               Agra  \n5                              158          Barcelona  \n6                               89           Istanbul  \n7                               96  Puerto de la Cruz  \n8                              109             Lisbon  \n9                              130      Santa Eulalia  \n10                             230          Cape Town  \n11                              43              Tunis  \n12                             159          Mauritius  \n13                              83     Rio De Janeiro  \n14                             180            Toronto  \n"
     ]
    }
   ],
   "source": [
    "import pandas as pd\n",
    "\n",
    "holdata = pd.read_csv (\"HLTWK4Tasmin.csv\")\n",
    "\n",
    "print(holdata)"
   ]
  },
  {
   "cell_type": "code",
   "execution_count": 50,
   "metadata": {},
   "outputs": [
    {
     "output_type": "execute_result",
     "data": {
      "text/plain": [
       "(15, 5)"
      ]
     },
     "metadata": {},
     "execution_count": 50
    }
   ],
   "source": [
    "#how many rows and columns are there?\n",
    "import pandas as pd\n",
    "\n",
    "data = pd.read_csv (\"HLTWK4Tasmin.csv\")\n",
    "\n",
    "data.shape"
   ]
  },
  {
   "cell_type": "code",
   "execution_count": 51,
   "metadata": {},
   "outputs": [
    {
     "output_type": "stream",
     "name": "stdout",
     "text": [
      "   Destination  Feedback_Score(Out_of_10)  Average_Hotel_Rating(Out_Of_5)  \\\n2     Maldives                          9                             4.8   \n3  Netherlands                          5                             3.0   \n4        India                          6                             3.5   \n5        Spain                          7                             2.4   \n6       Turkey                          6                             4.4   \n7     Tenerife                          3                             5.0   \n\n   Number_Of_All-inclusive_Hotels  Most_Visited_City  \n2                              57         Malé Atoll  \n3                               2          Amsterdam  \n4                             106               Agra  \n5                             158          Barcelona  \n6                              89           Istanbul  \n7                              96  Puerto de la Cruz  \n"
     ]
    }
   ],
   "source": [
    "#Print row 3-8 (using iloc/loc)\n",
    "\n",
    "import pandas as pd\n",
    "\n",
    "data = pd.read_csv (\"HLTWK4Tasmin.csv\")\n",
    "\n",
    "print(data.iloc[2:8])"
   ]
  },
  {
   "cell_type": "code",
   "execution_count": 22,
   "metadata": {},
   "outputs": [
    {
     "output_type": "execute_result",
     "data": {
      "text/plain": [
       "114.8"
      ]
     },
     "metadata": {},
     "execution_count": 22
    }
   ],
   "source": [
    "#Find the mean number of all-inclusive hotels across all destinations  \n",
    "\n",
    "import pandas as pd\n",
    "\n",
    "data = pd.read_csv (\"HLTWK4Tasmin.csv\")\n",
    "\n",
    "data[\"Number_Of_All-inclusive_Hotels\"].mean()\n",
    "\n"
   ]
  },
  {
   "cell_type": "code",
   "execution_count": 58,
   "metadata": {},
   "outputs": [
    {
     "output_type": "execute_result",
     "data": {
      "text/plain": [
       "14    8\n",
       "Name: Feedback_Score(Out_of_10), dtype: int64"
      ]
     },
     "metadata": {},
     "execution_count": 58
    }
   ],
   "source": [
    "#Find the lowest scoring destination\n",
    "\n",
    "import pandas as pd\n",
    "\n",
    "data = pd.read_csv (\"HLTWK4Tasmin.csv\")\n",
    "\n",
    "data[\"Feedback_Score(Out_of_10)\"].tail(1)"
   ]
  },
  {
   "cell_type": "code",
   "execution_count": 59,
   "metadata": {},
   "outputs": [
    {
     "output_type": "execute_result",
     "data": {
      "text/plain": [
       "0    7\n",
       "Name: Feedback_Score(Out_of_10), dtype: int64"
      ]
     },
     "metadata": {},
     "execution_count": 59
    }
   ],
   "source": [
    "#Find the highest scoring destination\n",
    "\n",
    "import pandas as pd\n",
    "\n",
    "data = pd.read_csv (\"HLTWK4Tasmin.csv\")\n",
    "\n",
    "data[\"Feedback_Score(Out_of_10)\"].head(1)"
   ]
  },
  {
   "cell_type": "code",
   "execution_count": 60,
   "metadata": {},
   "outputs": [
    {
     "output_type": "execute_result",
     "data": {
      "text/plain": [
       "0      True\n",
       "1      True\n",
       "2      True\n",
       "3     False\n",
       "4      True\n",
       "5      True\n",
       "6      True\n",
       "7      True\n",
       "8      True\n",
       "9      True\n",
       "10     True\n",
       "11     True\n",
       "12     True\n",
       "13     True\n",
       "14     True\n",
       "Name: Number_Of_All-inclusive_Hotels, dtype: bool"
      ]
     },
     "metadata": {},
     "execution_count": 60
    }
   ],
   "source": [
    "#Find all desinations where there are more then 9 all-inclusive hotels\n",
    "\n",
    "import pandas as pd\n",
    "\n",
    "data = pd.read_csv (\"HLTWK4Tasmin.csv\")\n",
    "\n",
    "myfilter = data[\"Number_Of_All-inclusive_Hotels\"] > 9\n",
    "myfilter\n",
    "\n"
   ]
  },
  {
   "cell_type": "code",
   "execution_count": 61,
   "metadata": {},
   "outputs": [
    {
     "output_type": "stream",
     "name": "stdout",
     "text": [
      "0     False\n1     False\n2      True\n3     False\n4     False\n5     False\n6     False\n7     False\n8     False\n9     False\n10    False\n11    False\n12    False\n13     True\n14    False\nName: Feedback_Score(Out_of_10), dtype: bool\n"
     ]
    }
   ],
   "source": [
    "#Filter the data by score above 8\n",
    "import pandas as pd\n",
    "\n",
    "data = pd.read_csv (\"HLTWK4Tasmin.csv\")\n",
    "\n",
    "myfilter = data[\"Feedback_Score(Out_of_10)\"] > 8\n",
    "print(myfilter)"
   ]
  },
  {
   "cell_type": "code",
   "execution_count": 63,
   "metadata": {},
   "outputs": [
    {
     "output_type": "stream",
     "name": "stdout",
     "text": [
      "0     False\n1     False\n2     False\n3     False\n4     False\n5     False\n6     False\n7     False\n8     False\n9     False\n10    False\n11    False\n12    False\n13    False\n14    False\nName: Feedback_Score(Out_of_10), dtype: bool\n"
     ]
    }
   ],
   "source": [
    "#Filter the data score below 2\n",
    "import pandas as pd\n",
    "\n",
    "data = pd.read_csv (\"HLTWK4Tasmin.csv\")\n",
    "\n",
    "myfilter = data[\"Feedback_Score(Out_of_10)\"] < 2\n",
    "\n",
    "print(myfilter)"
   ]
  },
  {
   "cell_type": "code",
   "execution_count": 64,
   "metadata": {},
   "outputs": [
    {
     "output_type": "stream",
     "name": "stdout",
     "text": [
      "-0.017063708493776832\n"
     ]
    }
   ],
   "source": [
    "#Is there a correlation between number of all-inclusive hotels and score \n",
    "import pandas as pd\n",
    "\n",
    "data = pd.read_csv (\"HLTWK4Tasmin.csv\")\n",
    "\n",
    "print(data[\"Number_Of_All-inclusive_Hotels\"].corr(data[\"Feedback_Score(Out_of_10)\"]))"
   ]
  },
  {
   "cell_type": "code",
   "execution_count": 63,
   "metadata": {},
   "outputs": [
    {
     "output_type": "execute_result",
     "data": {
      "text/plain": [
       "     Destination  Feedback_Score(Out_of_10)  Average_Hotel_Rating(Out_Of_5)  \\\n",
       "0        Croatia                          7                             4.0   \n",
       "1    New Zealand                          5                             4.2   \n",
       "2       Maldives                          9                             4.8   \n",
       "3    Netherlands                          5                             3.0   \n",
       "4          India                          6                             3.5   \n",
       "5          Spain                          7                             2.4   \n",
       "6         Turkey                          6                             4.4   \n",
       "7       Tenerife                          3                             5.0   \n",
       "8       Portugal                          4                             3.6   \n",
       "9          Ibiza                          3                             4.2   \n",
       "10  South Africa                          8                             4.7   \n",
       "11       Tunisia                          7                             3.2   \n",
       "12   East Africa                          6                             3.6   \n",
       "13        Brazil                          9                             4.7   \n",
       "14       Cananda                          8                             4.5   \n",
       "\n",
       "    Number_Of_All-inclusive_Hotels  Most_Visited_City  \n",
       "0                               24          Dubrovnik  \n",
       "1                              256           Auckland  \n",
       "2                               57         Malé Atoll  \n",
       "3                                2          Amsterdam  \n",
       "4                              106               Agra  \n",
       "5                              158          Barcelona  \n",
       "6                               89           Istanbul  \n",
       "7                               96  Puerto de la Cruz  \n",
       "8                              109             Lisbon  \n",
       "9                              130      Santa Eulalia  \n",
       "10                             230          Cape Town  \n",
       "11                              43              Tunis  \n",
       "12                             159          Mauritius  \n",
       "13                              83     Rio De Janeiro  \n",
       "14                             180            Toronto  "
      ],
      "text/html": "<div>\n<style scoped>\n    .dataframe tbody tr th:only-of-type {\n        vertical-align: middle;\n    }\n\n    .dataframe tbody tr th {\n        vertical-align: top;\n    }\n\n    .dataframe thead th {\n        text-align: right;\n    }\n</style>\n<table border=\"1\" class=\"dataframe\">\n  <thead>\n    <tr style=\"text-align: right;\">\n      <th></th>\n      <th>Destination</th>\n      <th>Feedback_Score(Out_of_10)</th>\n      <th>Average_Hotel_Rating(Out_Of_5)</th>\n      <th>Number_Of_All-inclusive_Hotels</th>\n      <th>Most_Visited_City</th>\n    </tr>\n  </thead>\n  <tbody>\n    <tr>\n      <th>0</th>\n      <td>Croatia</td>\n      <td>7</td>\n      <td>4.0</td>\n      <td>24</td>\n      <td>Dubrovnik</td>\n    </tr>\n    <tr>\n      <th>1</th>\n      <td>New Zealand</td>\n      <td>5</td>\n      <td>4.2</td>\n      <td>256</td>\n      <td>Auckland</td>\n    </tr>\n    <tr>\n      <th>2</th>\n      <td>Maldives</td>\n      <td>9</td>\n      <td>4.8</td>\n      <td>57</td>\n      <td>Malé Atoll</td>\n    </tr>\n    <tr>\n      <th>3</th>\n      <td>Netherlands</td>\n      <td>5</td>\n      <td>3.0</td>\n      <td>2</td>\n      <td>Amsterdam</td>\n    </tr>\n    <tr>\n      <th>4</th>\n      <td>India</td>\n      <td>6</td>\n      <td>3.5</td>\n      <td>106</td>\n      <td>Agra</td>\n    </tr>\n    <tr>\n      <th>5</th>\n      <td>Spain</td>\n      <td>7</td>\n      <td>2.4</td>\n      <td>158</td>\n      <td>Barcelona</td>\n    </tr>\n    <tr>\n      <th>6</th>\n      <td>Turkey</td>\n      <td>6</td>\n      <td>4.4</td>\n      <td>89</td>\n      <td>Istanbul</td>\n    </tr>\n    <tr>\n      <th>7</th>\n      <td>Tenerife</td>\n      <td>3</td>\n      <td>5.0</td>\n      <td>96</td>\n      <td>Puerto de la Cruz</td>\n    </tr>\n    <tr>\n      <th>8</th>\n      <td>Portugal</td>\n      <td>4</td>\n      <td>3.6</td>\n      <td>109</td>\n      <td>Lisbon</td>\n    </tr>\n    <tr>\n      <th>9</th>\n      <td>Ibiza</td>\n      <td>3</td>\n      <td>4.2</td>\n      <td>130</td>\n      <td>Santa Eulalia</td>\n    </tr>\n    <tr>\n      <th>10</th>\n      <td>South Africa</td>\n      <td>8</td>\n      <td>4.7</td>\n      <td>230</td>\n      <td>Cape Town</td>\n    </tr>\n    <tr>\n      <th>11</th>\n      <td>Tunisia</td>\n      <td>7</td>\n      <td>3.2</td>\n      <td>43</td>\n      <td>Tunis</td>\n    </tr>\n    <tr>\n      <th>12</th>\n      <td>East Africa</td>\n      <td>6</td>\n      <td>3.6</td>\n      <td>159</td>\n      <td>Mauritius</td>\n    </tr>\n    <tr>\n      <th>13</th>\n      <td>Brazil</td>\n      <td>9</td>\n      <td>4.7</td>\n      <td>83</td>\n      <td>Rio De Janeiro</td>\n    </tr>\n    <tr>\n      <th>14</th>\n      <td>Cananda</td>\n      <td>8</td>\n      <td>4.5</td>\n      <td>180</td>\n      <td>Toronto</td>\n    </tr>\n  </tbody>\n</table>\n</div>"
     },
     "metadata": {},
     "execution_count": 63
    }
   ],
   "source": [
    "#Create a data visualisation diagram to show destination and highest score\n",
    "\n",
    "import pandas as pd \n",
    "\n",
    "data = pd.read_csv(\"HLTWK4Tasmin.csv\")\n",
    "\n",
    "type(df)\n",
    "\n",
    "pd.set_option(\"display.max.columns\", None)\n",
    "\n",
    "df.head(16)\n",
    "\n"
   ]
  },
  {
   "cell_type": "code",
   "execution_count": 7,
   "metadata": {},
   "outputs": [
    {
     "output_type": "error",
     "ename": "ModuleNotFoundError",
     "evalue": "No module named 'matplotlib'",
     "traceback": [
      "\u001b[1;31m---------------------------------------------------------------------------\u001b[0m",
      "\u001b[1;31mModuleNotFoundError\u001b[0m                       Traceback (most recent call last)",
      "\u001b[1;32m<ipython-input-7-e602c9afbcbd>\u001b[0m in \u001b[0;36m<module>\u001b[1;34m\u001b[0m\n\u001b[0;32m      1\u001b[0m \u001b[1;31m#Create a data visualisation diagram to show destination and highest score\u001b[0m\u001b[1;33m\u001b[0m\u001b[1;33m\u001b[0m\u001b[1;33m\u001b[0m\u001b[0m\n\u001b[0;32m      2\u001b[0m \u001b[1;32mimport\u001b[0m \u001b[0mpandas\u001b[0m \u001b[1;32mas\u001b[0m \u001b[0mpd\u001b[0m\u001b[1;33m\u001b[0m\u001b[1;33m\u001b[0m\u001b[0m\n\u001b[1;32m----> 3\u001b[1;33m \u001b[1;32mimport\u001b[0m \u001b[0mmatplotlib\u001b[0m\u001b[1;33m.\u001b[0m\u001b[0mpyplot\u001b[0m \u001b[1;32mas\u001b[0m \u001b[0mplt\u001b[0m\u001b[1;33m\u001b[0m\u001b[1;33m\u001b[0m\u001b[0m\n\u001b[0m\u001b[0;32m      4\u001b[0m \u001b[1;33m\u001b[0m\u001b[0m\n\u001b[0;32m      5\u001b[0m \u001b[0mdf\u001b[0m\u001b[1;33m.\u001b[0m\u001b[0mplot\u001b[0m\u001b[1;33m(\u001b[0m\u001b[0mx\u001b[0m\u001b[1;33m=\u001b[0m\u001b[1;33m[\u001b[0m\u001b[1;34m\"Destination\"\u001b[0m\u001b[1;33m]\u001b[0m\u001b[1;33m,\u001b[0m \u001b[0my\u001b[0m\u001b[1;33m=\u001b[0m\u001b[1;33m[\u001b[0m\u001b[1;34m\"Feedback_Score(Out_of_10)\"\u001b[0m\u001b[1;33m,\u001b[0m \u001b[1;34m\"Average_Hotel_Rating(Out_Of_5)\"\u001b[0m\u001b[1;33m]\u001b[0m\u001b[1;33m)\u001b[0m\u001b[1;33m\u001b[0m\u001b[1;33m\u001b[0m\u001b[0m\n",
      "\u001b[1;31mModuleNotFoundError\u001b[0m: No module named 'matplotlib'"
     ]
    }
   ],
   "source": [
    "#Create a data visualisation diagram to show destination and highest score\n",
    "import pandas as pd\n",
    "import matplotlib.pyplot as plt\n",
    "\n",
    "df.plot(x=[\"Destination\"], y=[\"Feedback_Score(Out_of_10)\", \"Average_Hotel_Rating(Out_Of_5)\"])\n",
    "plt.show()"
   ]
  },
  {
   "cell_type": "code",
   "execution_count": null,
   "metadata": {},
   "outputs": [],
   "source": []
  }
 ]
}